{
 "cells": [
  {
   "cell_type": "code",
   "execution_count": null,
   "id": "21ae151d",
   "metadata": {},
   "outputs": [],
   "source": [
    "import requests\n",
    "from bs4 import BeautifulSoup\n",
    "\n",
    "theme_names = []\n",
    "\n",
    "for i in range(1, 9) : \n",
    "    # URL 설정\n",
    "    url = f\"https://finance.naver.com/sise/theme.naver?&page={i}\"\n",
    "\n",
    "    # 웹 페이지 요청\n",
    "    response = requests.get(url)\n",
    "    response.raise_for_status()\n",
    "\n",
    "    # BeautifulSoup 객체 생성\n",
    "    soup = BeautifulSoup(response.text, 'html.parser')\n",
    "\n",
    "    # 테마명 크롤링\n",
    "    # <td class=\"col_type1\"> 태그를 찾기\n",
    "    theme_list = soup.select('td.col_type1 a')\n",
    "\n",
    "    for theme in theme_list:\n",
    "        theme_names.append(theme.get_text())\n",
    "        \n",
    "print(theme_names)"
   ]
  }
 ],
 "metadata": {
  "kernelspec": {
   "display_name": "sol",
   "language": "python",
   "name": "sol"
  },
  "language_info": {
   "codemirror_mode": {
    "name": "ipython",
    "version": 3
   },
   "file_extension": ".py",
   "mimetype": "text/x-python",
   "name": "python",
   "nbconvert_exporter": "python",
   "pygments_lexer": "ipython3",
   "version": "3.10.13"
  }
 },
 "nbformat": 4,
 "nbformat_minor": 5
}

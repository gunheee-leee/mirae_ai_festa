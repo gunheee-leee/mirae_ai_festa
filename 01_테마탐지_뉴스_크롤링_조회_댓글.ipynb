{
 "cells": [
  {
   "cell_type": "code",
   "execution_count": 5,
   "id": "821723bf",
   "metadata": {},
   "outputs": [],
   "source": [
    "import requests\n",
    "from bs4 import BeautifulSoup\n",
    "from datetime import datetime, timedelta\n",
    "import pandas as pd\n",
    "import time\n"
   ]
  },
  {
   "cell_type": "markdown",
   "id": "11a071b1",
   "metadata": {},
   "source": [
    "## 함수 -> 제목,링크,날짜를 뽑음"
   ]
  },
  {
   "cell_type": "code",
   "execution_count": 6,
   "id": "a7f97587",
   "metadata": {
    "scrolled": true
   },
   "outputs": [],
   "source": [
    "import requests\n",
    "from bs4 import BeautifulSoup\n",
    "import pandas as pd\n",
    "from datetime import datetime, timedelta\n",
    "\n",
    "# 속보랑 단독 들어가 있는 경우만 제목과 링크를 크롤링하는 함수 \n",
    "def get_special_news_titles_and_links(url):\n",
    "    response = requests.get(url)\n",
    "    response.raise_for_status()\n",
    "    soup = BeautifulSoup(response.text, 'html.parser')\n",
    "    titles_and_links = [(a.get_text().strip(), a['href']) for a in soup.select('.rankingnews_box .rankingnews_list a') if a.get_text().strip() and a.get_text().strip() != '동영상기사']\n",
    "\n",
    "    titles=[title for title, link in titles_and_links]\n",
    "    links = [link for title, link in titles_and_links]\n",
    "    return titles, links\n",
    "\n",
    "# 날짜 생성 함수\n",
    "def generate_dates(start_date, end_date):\n",
    "    start = datetime.strptime(start_date, '%Y%m%d')\n",
    "    end = datetime.strptime(end_date, '%Y%m%d')\n",
    "    delta = timedelta(days=1)\n",
    "    current = start\n",
    "    while current <= end:\n",
    "        yield current.strftime('%Y%m%d')\n",
    "        current += delta\n"
   ]
  },
  {
   "cell_type": "markdown",
   "id": "b41db8e8-87bb-4d0e-a491-9bb83885702a",
   "metadata": {},
   "source": [
    "## 댓글 많은 뉴스+ 많이 본 뉴스"
   ]
  },
  {
   "cell_type": "code",
   "execution_count": 8,
   "id": "4bf809e2-8bbc-466f-8914-c90dec1b4325",
   "metadata": {},
   "outputs": [],
   "source": [
    "import requests\n",
    "from bs4 import BeautifulSoup\n",
    "import pandas as pd\n",
    "from datetime import datetime, timedelta\n",
    "\n",
    "def generate_dates(start_date, end_date):\n",
    "    start = datetime.strptime(start_date, '%Y%m%d')\n",
    "    end = datetime.strptime(end_date, '%Y%m%d')\n",
    "    delta = timedelta(days=1)\n",
    "    current = start\n",
    "    while current <= end:\n",
    "        yield current.strftime('%Y%m%d')\n",
    "        current += delta\n",
    "\n",
    "def get_special_news_titles_and_links(url):\n",
    "    response = requests.get(url)\n",
    "    soup = BeautifulSoup(response.content, 'html.parser')\n",
    "    titles = [tag.text.strip() for tag in soup.select('.list_title')]\n",
    "    links = [tag['href'] for tag in soup.select('.list_title')]\n",
    "    return titles, links\n",
    "\n",
    "base_urls = [\n",
    "    \"https://news.naver.com/main/ranking/popularDay.naver?date=\",\n",
    "    \"https://news.naver.com/main/ranking/popularMemo.naver?date=\"\n",
    "]\n",
    "\n",
    "start_date = '20230701'\n",
    "end_date = '20240701'\n",
    "\n",
    "for date in generate_dates(start_date, end_date):\n",
    "    all_articles = []\n",
    "    for base_url in base_urls:\n",
    "        url = base_url + date\n",
    "        titles, links = get_special_news_titles_and_links(url)\n",
    "        for title, link in zip(titles, links):\n",
    "            all_articles.append({\n",
    "                'Date': date,\n",
    "                'Title': title,\n",
    "                'Link': link\n",
    "            })\n",
    "\n",
    "    df = pd.DataFrame(all_articles)\n",
    "    df.to_csv(f'뉴스//important_news_{date}.csv', index=False)\n"
   ]
  },
  {
   "cell_type": "code",
   "execution_count": 4,
   "id": "a00641f4-ab2b-4b77-8203-9e7717cfc705",
   "metadata": {},
   "outputs": [
    {
     "data": {
      "text/plain": [
       "(827, 3)"
      ]
     },
     "execution_count": 4,
     "metadata": {},
     "output_type": "execute_result"
    }
   ],
   "source": [
    "df.shape"
   ]
  },
  {
   "cell_type": "code",
   "execution_count": null,
   "id": "96c14985-137c-4613-ac94-aa5844716b50",
   "metadata": {},
   "outputs": [],
   "source": []
  }
 ],
 "metadata": {
  "kernelspec": {
   "display_name": "AI_ENV",
   "language": "python",
   "name": "aienv"
  },
  "language_info": {
   "codemirror_mode": {
    "name": "ipython",
    "version": 3
   },
   "file_extension": ".py",
   "mimetype": "text/x-python",
   "name": "python",
   "nbconvert_exporter": "python",
   "pygments_lexer": "ipython3",
   "version": "3.11.5"
  },
  "toc": {
   "base_numbering": 1,
   "nav_menu": {},
   "number_sections": true,
   "sideBar": true,
   "skip_h1_title": false,
   "title_cell": "Table of Contents",
   "title_sidebar": "Contents",
   "toc_cell": false,
   "toc_position": {},
   "toc_section_display": true,
   "toc_window_display": false
  }
 },
 "nbformat": 4,
 "nbformat_minor": 5
}

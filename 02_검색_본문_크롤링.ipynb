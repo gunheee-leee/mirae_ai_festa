{
 "cells": [
  {
   "cell_type": "markdown",
   "id": "870e6894-d089-4838-a253-34754183cc97",
   "metadata": {},
   "source": [
    "# 본문 추출 코드 \n",
    "- txt파일 내용 추출/ 파일 이름에서 날짜 추출 -> txt 파일 내용으로 날짜 지정하여 검색 ->  가장 위에 있는 네이버 뉴스 기사의 본문 추출"
   ]
  },
  {
   "cell_type": "code",
   "execution_count": 6,
   "id": "c1ec2848-dfca-474a-add7-1854afe11e46",
   "metadata": {},
   "outputs": [],
   "source": [
    "import re\n",
    "import requests\n",
    "from bs4 import BeautifulSoup\n",
    "import pandas as pd\n",
    "from datetime import datetime, timedelta\n",
    "\n",
    "# 파일에서 제목을 추출하여 리스트에 저장하는 함수\n",
    "def extract_titles(filename):\n",
    "    lines = []\n",
    "    with open(filename, 'r', encoding='utf-8') as f:\n",
    "        for line in f:\n",
    "            stripped_line = line.strip()\n",
    "            if '. ' in stripped_line:\n",
    "                text = stripped_line.split('. ', 1)[1]\n",
    "                lines.append(text)\n",
    "    return lines\n",
    "\n",
    "# 파일 이름에서 날짜를 추출하여 변수에 저장하는 함수\n",
    "def extract_date(filename):\n",
    "    match = re.search(r'(\\d{4})(\\d{2})(\\d{2})', filename)\n",
    "    if match:\n",
    "        year, month, day = match.groups()\n",
    "        date = f'{year}.{month}.{day}'\n",
    "        return date\n",
    "    return None\n",
    "\n",
    "# 뉴스 본문을 수집하는 함수\n",
    "def get_first_news_body(query, date):\n",
    "    search_url = f\"https://search.naver.com/search.naver?where=news&query={query}&sm=tab_opt&sort=0&photo=0&field=0&pd=3&ds={date}&de={date}&docid=&related=0&mynews=0&office_type=0&office_section_code=0&news_office_checked=&nso=so%3Ar%2Cp%3Afrom{date.replace('.','')}to{date.replace('.','')}&is_sug_officeid=0&office_category=0&service_area=0\"\n",
    "    search_response = requests.get(search_url)\n",
    "    search_response.raise_for_status()\n",
    "    search_soup = BeautifulSoup(search_response.text, 'html.parser')\n",
    "    \n",
    "    for i in range(1, 10):  \n",
    "        try:\n",
    "            news_link = search_soup.select('.info_group a')[i]['href']\n",
    "            news_response = requests.get(news_link)\n",
    "            news_response.raise_for_status()\n",
    "            news_soup = BeautifulSoup(news_response.text, 'html.parser')\n",
    "            news_body_element = news_soup.select_one('#dic_area')\n",
    "            if news_body_element:\n",
    "                return news_body_element.get_text(strip=True)\n",
    "        except (IndexError, ValueError, requests.exceptions.RequestException):\n",
    "            continue\n",
    "    return \"본문을 찾을 수 없습니다.\"\n",
    "\n",
    "# 데이터 수집 범위 설정\n",
    "start_date = '20230701'\n",
    "end_date = '20240701'\n",
    "start_dt = datetime.strptime(start_date, '%Y%m%d')\n",
    "end_dt = datetime.strptime(end_date, '%Y%m%d')\n",
    "\n",
    "data = []\n",
    "\n",
    "# 날짜 범위 내에서 파일 이름 생성 및 데이터 수집\n",
    "for n in range(int((end_dt - start_dt).days) + 1):\n",
    "    current_date = (start_dt + timedelta(n)).strftime('%Y%m%d')\n",
    "    file_path = f\"이슈_검색어/important_news_advice_{current_date}.txt\"\n",
    "    \n",
    "    try:\n",
    "        # 파일에서 제목 추출\n",
    "        queries = extract_titles(file_path)\n",
    "        date = extract_date(file_path)\n",
    "        \n",
    "        # 각 제목에 대해 뉴스 본문 수집\n",
    "        for query in queries:\n",
    "            news_body = get_first_news_body(query, date)\n",
    "            data.append({'검색어': query, '본문': news_body, '날짜': date})\n",
    "    except FileNotFoundError:\n",
    "        print(f\"{file_path} 파일을 찾을 수 없습니다.\")\n",
    "\n",
    "# 데이터프레임 생성\n",
    "df = pd.DataFrame(data)"
   ]
  },
  {
   "cell_type": "markdown",
   "id": "00c4d2a9-1c42-4523-8934-8fbf0f67920e",
   "metadata": {},
   "source": [
    "# 파일 저장"
   ]
  },
  {
   "cell_type": "code",
   "execution_count": 62,
   "id": "c26d3fb3-81fb-4609-b369-1f3f6db9dfc2",
   "metadata": {},
   "outputs": [],
   "source": [
    "df.to_csv('important_news_advice_content.csv',index=False)"
   ]
  }
 ],
 "metadata": {
  "kernelspec": {
   "display_name": "Python 3 (ipykernel)",
   "language": "python",
   "name": "python3"
  },
  "language_info": {
   "codemirror_mode": {
    "name": "ipython",
    "version": 3
   },
   "file_extension": ".py",
   "mimetype": "text/x-python",
   "name": "python",
   "nbconvert_exporter": "python",
   "pygments_lexer": "ipython3",
   "version": "3.11.5"
  }
 },
 "nbformat": 4,
 "nbformat_minor": 5
}

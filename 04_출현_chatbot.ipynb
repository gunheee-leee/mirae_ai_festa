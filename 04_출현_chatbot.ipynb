{
 "cells": [
  {
   "cell_type": "markdown",
   "id": "35f50713-e243-4a5b-8f80-31193ac5396a",
   "metadata": {},
   "source": [
    "## 튜닝 작업 -> 증강 데이터 활용"
   ]
  },
  {
   "cell_type": "code",
   "execution_count": 1,
   "id": "b73c7e68-bb1b-432e-b01e-c44890ba90c9",
   "metadata": {},
   "outputs": [
    {
     "name": "stdout",
     "output_type": "stream",
     "text": [
      "{'name': 'generation_task', 'model': 'HCX-003', 'tuningType': 'PEFT', 'taskType': 'GENERATION', 'trainEpochs': '8', 'learningRate': '1e-5f', 'trainingDatasetBucket': 'bucccccccket', 'trainingDatasetFilePath': 'augmentation_tuning.csv', 'trainingDatasetAccessKey': '1CE0AC98B82C7F38D2B1', 'trainingDatasetSecretKey': 'B272507311A0FAD79ECB4F6053EBC8DAACDEAABC'}\n",
      "{'id': 'ef9wud5s', 'userId': '4436', 'name': 'generation_task', 'method': 'LoRA', 'taskType': 'GENERATION', 'trainEpochs': 8, 'learningRate': 1e-05, 'status': 'WAIT', 'statusInfo': {'label': None, 'dataRows': None, 'numOfTokens': None, 'currStep': None, 'totalTrainSteps': None, 'currEpoch': None, 'totalTrainEpochs': None, 'estimatedTime': None, 'trainLoss': None, 'lossDiff': None, 'sendWeightSuccess': None, 'uploadedWeights': [], 'failureReason': None, 'message': None, 'endDatetime': None, 'tokens': 0, 'currNumOfTokens': 0}, 'baseModelId': 28, 'baseModel': 'HCX-003', 'tuningModelId': None, 'tuningModel': None, 'tuningPipeline': None, 'deployPipeline': None, 'checkpoint': None, 'dataset': {'id': '2f70dc633305468d85fa0a3d39186d45', 'type': 'NONE', 'tuningType': None, 'filePath': 'augmentation_tuning.csv', 'fileName': 'augmentation_tuning.csv', 'fileSize': 0, 'token': 0, 'rowCount': 0, 'userId': '4436', 'createdDate': '2024-07-29T08:28:42Z', 'updatedDate': '2024-07-29T08:28:42Z'}, 'modelDeprecated': False, 'modelUseChat': True, 'tuningType': 'PEFT', 'createdClientType': 'API', 'modelLabel': '', 'createdDate': '2024-07-29T17:28:42+0900', 'updatedDate': '2024-07-29T17:28:42+0900', 'modelExists': None}\n"
     ]
    }
   ],
   "source": [
    "# -*- coding: utf-8 -*-\n",
    "\n",
    "import base64\n",
    "import hashlib\n",
    "import hmac\n",
    "import requests\n",
    "import time\n",
    "\n",
    "\n",
    "class CreateTaskExecutor:\n",
    "    def __init__(self, host, uri, method, iam_access_key, secret_key, request_id):\n",
    "        self._host = host\n",
    "        self._uri = uri\n",
    "        self._method = method\n",
    "        self._api_gw_time = str(int(time.time() * 1000))\n",
    "        self._iam_access_key = iam_access_key\n",
    "        self._secret_key = secret_key\n",
    "        self._request_id = request_id\n",
    "\n",
    "    def _make_signature(self):\n",
    "        secret_key = bytes(self._secret_key, 'UTF-8')\n",
    "        message = self._method + \" \" + self._uri + \"\\n\" + self._api_gw_time + \"\\n\" + self._iam_access_key\n",
    "        message = bytes(message, 'UTF-8')\n",
    "        signing_key = base64.b64encode(hmac.new(secret_key, message, digestmod=hashlib.sha256).digest())\n",
    "        return signing_key\n",
    "\n",
    "    def _send_request(self, create_request):\n",
    "\n",
    "        headers = {\n",
    "            'X-NCP-APIGW-TIMESTAMP': self._api_gw_time,\n",
    "            'X-NCP-IAM-ACCESS-KEY': self._iam_access_key,\n",
    "            'X-NCP-APIGW-SIGNATURE-V2': self._make_signature(),\n",
    "            'X-NCP-CLOVASTUDIO-REQUEST-ID': self._request_id\n",
    "        }\n",
    "        result = requests.post(self._host + self._uri, json=create_request, headers=headers).json()\n",
    "        return result\n",
    "\n",
    "    def execute(self, create_request):\n",
    "        res = self._send_request(create_request)\n",
    "        if 'status' in res and res['status']['code'] == '20000':\n",
    "            return res['result']\n",
    "        else:\n",
    "            return res\n",
    "\n",
    "\n",
    "if __name__ == '__main__':\n",
    "    completion_executor = CreateTaskExecutor(\n",
    "        host='https://clovastudio.apigw.ntruss.com',\n",
    "        uri='/tuning/v2/tasks',\n",
    "        method='POST',\n",
    "        iam_access_key='',\n",
    "        secret_key='',\n",
    "        request_id='<request_id>'\n",
    "    )\n",
    "\n",
    "    request_data = {'name': 'generation_task',\n",
    "                    'model': 'HCX-003',\n",
    "                    'tuningType': 'PEFT',\n",
    "                    'taskType': 'GENERATION',\n",
    "                    'trainEpochs': '8',\n",
    "                    'learningRate': '1e-5f',\n",
    "                    'trainingDatasetBucket': '',\n",
    "                    'trainingDatasetFilePath': 'augmentation_tuning.csv',\n",
    "                    'trainingDatasetAccessKey': '',\n",
    "                    'trainingDatasetSecretKey': ''\n",
    "                    }\n",
    "    response_text = completion_executor.execute(request_data)\n",
    "    print(request_data)\n",
    "    print(response_text)\n"
   ]
  },
  {
   "cell_type": "code",
   "execution_count": null,
   "id": "88970213-f515-4e86-b59c-dd2b00e87685",
   "metadata": {},
   "outputs": [],
   "source": []
  },
  {
   "cell_type": "markdown",
   "id": "c67ffa91-7891-4c93-a6f6-db6ce030ad31",
   "metadata": {},
   "source": [
    "## 챗봇"
   ]
  },
  {
   "cell_type": "code",
   "execution_count": 5,
   "id": "38d1b42d-3e31-4400-afeb-da7d04195a63",
   "metadata": {},
   "outputs": [
    {
     "name": "stdin",
     "output_type": "stream",
     "text": [
      "현재 감정적 투자를 하고 있지 않아? 조금만 심호흡을 해봐 (or type 'exit' to quit):  나 꼭 주식 사고 싶어\n"
     ]
    },
    {
     "name": "stdout",
     "output_type": "stream",
     "text": [
      "챗봇의 응답: 주식을 사고 싶다니 멋진데! 어떤 회사에 투자할지 생각해 봤어?\n"
     ]
    },
    {
     "name": "stdin",
     "output_type": "stream",
     "text": [
      "무엇이든 질문하세요 (or type 'exit' to quit):  삼성전자에 투자하고 싶어\n"
     ]
    },
    {
     "name": "stdout",
     "output_type": "stream",
     "text": [
      "챗봇의 응답: 주식투자를 하려고 하는구나! 삼성전자는 대한민국 대표 기업 중 하나로 안정적이고 꾸준한 수익을 기대할 수 있는 종목이야. 하지만 주식 시장은 예측하기 어렵고 변동성이 크기 때문에 신중하게 결정해야 해.\n",
      "\n",
      "먼저 자신의 투자 목적과 자금 상황을 고려해서 적절한 금액을 설정 하는 게 중요해. 그리고 관련 뉴스와 전문가들의 의견을 참고하면서 주가의 흐름을 파악하면 도움이 될 거야. 또 직접 분석한 자료를 토대로 매수/매도 타이밍을 잡는 것도 필요하지.\n",
      "\n",
      "처음이라면 소액으로 시작해서 경험을 쌓아보는 건 어때?\n"
     ]
    },
    {
     "name": "stdin",
     "output_type": "stream",
     "text": [
      "무엇이든 질문하세요 (or type 'exit' to quit):  좋아, 변동률이 높을 때는 어떻게 투자하면 좋을까?\n"
     ]
    },
    {
     "name": "stdout",
     "output_type": "stream",
     "text": [
      "챗봇의 응답: 변동률이 높은 시기에는 신중하게 투자해야 해. 분산투자 하는 건 어때?\n"
     ]
    },
    {
     "name": "stdin",
     "output_type": "stream",
     "text": [
      "무엇이든 질문하세요 (or type 'exit' to quit):  exit\n"
     ]
    }
   ],
   "source": [
    "import requests\n",
    "\n",
    "class CompletionExecutor:\n",
    "    def __init__(self, host, api_key, api_key_primary_val, request_id):\n",
    "        self._host = host\n",
    "        self._api_key = api_key\n",
    "        self._api_key_primary_val = api_key_primary_val\n",
    "        self._request_id = request_id\n",
    "\n",
    "    def execute(self, completion_request):\n",
    "        headers = {\n",
    "            'X-NCP-CLOVASTUDIO-API-KEY': self._api_key,\n",
    "            'X-NCP-APIGW-API-KEY': self._api_key_primary_val,\n",
    "            'X-NCP-CLOVASTUDIO-REQUEST-ID': self._request_id,\n",
    "            'Content-Type': 'application/json; charset=utf-8',\n",
    "            'Accept': 'application/json'\n",
    "        }\n",
    "\n",
    "        response = requests.post(\n",
    "            self._host + '/testapp/v1/chat-completions/HCX-003',\n",
    "            headers=headers, \n",
    "            json=completion_request\n",
    "        )\n",
    "        \n",
    "        if response.status_code == 200:\n",
    "            response_json = response.json()\n",
    "            if 'result' in response_json and 'message' in response_json['result']:\n",
    "                message_content = response_json['result']['message']['content']\n",
    "                print(\"챗봇의 응답:\", message_content)\n",
    "            else:\n",
    "                print(\"예상치 못한 응답 형식:\", response_json)\n",
    "        else:\n",
    "            print(f\"요청 실패, 상태 코드: {response.status_code}\")\n",
    "\n",
    "if __name__ == '__main__':\n",
    "    completion_executor = CompletionExecutor(\n",
    "        host='https://clovastudio.stream.ntruss.com',\n",
    "        api_key='',\n",
    "        api_key_primary_val='',\n",
    "        request_id=''\n",
    "    )\n",
    "\n",
    "    preset_text = [\n",
    "\n",
    "        {\"role\": \"system\", \"content\": \"너는 친근하고 일상적인 어조를 사용해. '~했어', '~야' 같은 말투로 답변하고, 따뜻하고 이해심 있게 말해줘.\"},\n",
    "        {\"role\": \"system\", \"content\": \"너는 반말을 사용하여 친밀감을 형성하도록 해.\"}\n",
    "    ]\n",
    "\n",
    "    first_prompt = True\n",
    "\n",
    "    while True:\n",
    "        if first_prompt:\n",
    "            user_input = input(\"현재 감정적 투자를 하고 있지 않아? 조금만 심호흡을 해봐 (or type 'exit' to quit): \")\n",
    "            first_prompt = False\n",
    "        else:\n",
    "            user_input = input(\"무엇이든 질문하세요 (or type 'exit' to quit): \")\n",
    "\n",
    "        if user_input.lower() == 'exit':\n",
    "            break\n",
    "\n",
    "        preset_text.append({\"role\": \"user\", \"content\": user_input})\n",
    "\n",
    "        request_data = {\n",
    "            'messages': preset_text,\n",
    "            'topP': 0.8,\n",
    "            'topK': 0,\n",
    "            'maxTokens': 1024,\n",
    "            'temperature': 0.5,\n",
    "            'repeatPenalty': 5.0,\n",
    "            'stopBefore': [],\n",
    "            'includeAiFilters': True,\n",
    "            'seed': 0\n",
    "        }\n",
    "\n",
    "        completion_executor.execute(request_data)\n"
   ]
  }
 ],
 "metadata": {
  "kernelspec": {
   "display_name": "Python 3 (ipykernel)",
   "language": "python",
   "name": "python3"
  },
  "language_info": {
   "codemirror_mode": {
    "name": "ipython",
    "version": 3
   },
   "file_extension": ".py",
   "mimetype": "text/x-python",
   "name": "python",
   "nbconvert_exporter": "python",
   "pygments_lexer": "ipython3",
   "version": "3.11.5"
  }
 },
 "nbformat": 4,
 "nbformat_minor": 5
}
